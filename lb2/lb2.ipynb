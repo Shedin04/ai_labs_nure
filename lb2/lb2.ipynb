{
 "cells": [
  {
   "cell_type": "code",
   "execution_count": null,
   "id": "b3231c26-de2c-4a47-9a2b-d3de2961ff9f",
   "metadata": {},
   "outputs": [],
   "source": [
    "#General"
   ]
  },
  {
   "cell_type": "code",
   "execution_count": null,
   "id": "71ce95ec-850b-46d5-8443-98444c5536bc",
   "metadata": {},
   "outputs": [],
   "source": [
    "import os\n",
    "notebook_path = os.getcwd()\n",
    "os.chdir(notebook_path)\n",
    "print(\"Current directory:\", os.getcwd())\n",
    "print(\"Parent directory contents:\", os.listdir(\"..\"))"
   ]
  },
  {
   "cell_type": "code",
   "execution_count": null,
   "id": "7bc44a1b-3e9a-4d1b-8b71-df31f3f5efbf",
   "metadata": {},
   "outputs": [],
   "source": [
    "import pandas as pd\n",
    "from sklearn.tree import DecisionTreeRegressor\n",
    "from sklearn.metrics import mean_absolute_error\n",
    "from sklearn.model_selection import train_test_split"
   ]
  },
  {
   "cell_type": "code",
   "execution_count": null,
   "id": "322784b8-c357-4d26-8dbd-7d21c20b023e",
   "metadata": {},
   "outputs": [],
   "source": [
    "#Tutorials"
   ]
  },
  {
   "cell_type": "code",
   "execution_count": null,
   "id": "732b7aae-c743-4b63-b146-cebd65009f02",
   "metadata": {
    "scrolled": true
   },
   "outputs": [],
   "source": [
    "# save filepath to variable for easier access\n",
    "melbourne_file_path = 'input/melbourne-housing-snapshot/melb_data.csv'\n",
    "# read the data and store data in DataFrame titled melbourne_data\n",
    "melbourne_data = pd.read_csv(melbourne_file_path) \n",
    "# print a summary of the data in Melbourne data\n",
    "melbourne_data.describe()"
   ]
  },
  {
   "cell_type": "code",
   "execution_count": null,
   "id": "2798eb3e-53b9-41eb-bdc8-f43b6c2bcbe2",
   "metadata": {},
   "outputs": [],
   "source": [
    "melbourne_data.columns"
   ]
  },
  {
   "cell_type": "code",
   "execution_count": null,
   "id": "b71f326d-be49-4812-a58c-7f1767d71792",
   "metadata": {},
   "outputs": [],
   "source": [
    "# dropna drops missing values (think of na as \"not available\")\n",
    "melbourne_data = melbourne_data.dropna(axis=0)"
   ]
  },
  {
   "cell_type": "code",
   "execution_count": null,
   "id": "10dc5476-dc51-4582-bab7-c44ea70d23ab",
   "metadata": {},
   "outputs": [],
   "source": [
    "y = melbourne_data.Price"
   ]
  },
  {
   "cell_type": "code",
   "execution_count": null,
   "id": "c90d2895-8ffc-43ad-ae8e-d3b082d754e5",
   "metadata": {},
   "outputs": [],
   "source": [
    "melbourne_features = ['Rooms', 'Bathroom', 'Landsize', 'Lattitude', 'Longtitude']"
   ]
  },
  {
   "cell_type": "code",
   "execution_count": null,
   "id": "5018fa50-cd47-4b28-98fa-831df355de17",
   "metadata": {},
   "outputs": [],
   "source": [
    "X = melbourne_data[melbourne_features]"
   ]
  },
  {
   "cell_type": "code",
   "execution_count": null,
   "id": "0fe15733-89de-408b-bda4-15bdb6968aee",
   "metadata": {},
   "outputs": [],
   "source": [
    "X.describe()"
   ]
  },
  {
   "cell_type": "code",
   "execution_count": null,
   "id": "54ec2e7a-6169-48ca-bbf2-3aa3279e9bda",
   "metadata": {},
   "outputs": [],
   "source": [
    "X.head()"
   ]
  },
  {
   "cell_type": "code",
   "execution_count": null,
   "id": "2243fa79-881c-4555-9918-e2e8fe0a9aac",
   "metadata": {},
   "outputs": [],
   "source": [
    "# Define model. Specify a number for random_state to ensure same results each run\n",
    "melbourne_model = DecisionTreeRegressor(random_state=1)\n",
    "\n",
    "# Fit model\n",
    "melbourne_model.fit(X, y)"
   ]
  },
  {
   "cell_type": "code",
   "execution_count": null,
   "id": "0e7cec6e-d427-4475-a1f2-e1c4e4d9258d",
   "metadata": {},
   "outputs": [],
   "source": [
    "print(\"Making predictions for the following 5 houses:\")\n",
    "print(X.head())\n",
    "print(\"The predictions are\")\n",
    "print(melbourne_model.predict(X.head()))"
   ]
  },
  {
   "cell_type": "code",
   "execution_count": null,
   "id": "f4d702f2-0a2b-424b-b0ea-01888a177113",
   "metadata": {},
   "outputs": [],
   "source": [
    "predicted_home_prices = melbourne_model.predict(X)\n",
    "print(\"Absolute error for all houses is:\")\n",
    "mean_absolute_error(y, predicted_home_prices)"
   ]
  },
  {
   "cell_type": "code",
   "execution_count": null,
   "id": "4e5f7666-d554-4a49-a13b-75db949ed75d",
   "metadata": {},
   "outputs": [],
   "source": [
    "# split data into training and validation data, for both features and target\n",
    "# The split is based on a random number generator. Supplying a numeric value to\n",
    "# the random_state argument guarantees we get the same split every time we\n",
    "# run this script.\n",
    "train_X, val_X, train_y, val_y = train_test_split(X, y, random_state = 0)\n",
    "# Define model\n",
    "melbourne_model = DecisionTreeRegressor()\n",
    "# Fit model\n",
    "melbourne_model.fit(train_X, train_y)\n",
    "\n",
    "# get predicted prices on validation data\n",
    "val_predictions = melbourne_model.predict(val_X)\n",
    "print(mean_absolute_error(val_y, val_predictions))"
   ]
  },
  {
   "cell_type": "code",
   "execution_count": null,
   "id": "674c1d81-04dc-499a-b198-2708cad0e6c0",
   "metadata": {},
   "outputs": [],
   "source": []
  },
  {
   "cell_type": "code",
   "execution_count": null,
   "id": "6c7b2368-d9d3-42f6-9b67-6144a8e4b00e",
   "metadata": {},
   "outputs": [],
   "source": []
  },
  {
   "cell_type": "code",
   "execution_count": null,
   "id": "2b6b3655-fc9d-471a-a0e7-4a94243421f1",
   "metadata": {},
   "outputs": [],
   "source": [
    "#My turns"
   ]
  },
  {
   "cell_type": "code",
   "execution_count": null,
   "id": "a2e5f18a-1ab5-413a-aaab-12441a6c54dc",
   "metadata": {},
   "outputs": [],
   "source": [
    "iowa_file_path = 'input/home-data-for-ml-course/train.csv'\n",
    "home_data = pd.read_csv(iowa_file_path)\n",
    "home_data.describe()"
   ]
  },
  {
   "cell_type": "code",
   "execution_count": null,
   "id": "edbf4cf5-f493-4f06-a6c1-61efcd941e04",
   "metadata": {},
   "outputs": [],
   "source": [
    "y = home_data.SalePrice"
   ]
  },
  {
   "cell_type": "code",
   "execution_count": null,
   "id": "fd0c6bbb-23c8-4a25-94ad-32d0881c62be",
   "metadata": {},
   "outputs": [],
   "source": [
    "feature_names = [\"LotArea\", \"YearBuilt\", \"1stFlrSF\", \"2ndFlrSF\",\n",
    "                      \"FullBath\", \"BedroomAbvGr\", \"TotRmsAbvGrd\"]\n",
    "\n",
    "X=home_data[feature_names]"
   ]
  },
  {
   "cell_type": "code",
   "execution_count": null,
   "id": "bb27caed-80eb-4ee9-a5c2-2429869e62a0",
   "metadata": {},
   "outputs": [],
   "source": [
    "# Review data\n",
    "# print description or statistics from X\n",
    "print(X.describe())\n",
    "\n",
    "# print the top few lines\n",
    "print(X.head())"
   ]
  },
  {
   "cell_type": "code",
   "execution_count": null,
   "id": "ddac668d-767f-4d49-92e1-1cbbec58efc3",
   "metadata": {},
   "outputs": [],
   "source": [
    "iowa_model = DecisionTreeRegressor(random_state=1)\n",
    "iowa_model.fit(X, y)"
   ]
  },
  {
   "cell_type": "code",
   "execution_count": null,
   "id": "5bfff017-d29e-483d-83e8-465cdaeb1355",
   "metadata": {},
   "outputs": [],
   "source": [
    "print(X.describe())\n",
    "predictions = iowa_model.predict(X)\n",
    "print(predictions)"
   ]
  },
  {
   "cell_type": "code",
   "execution_count": null,
   "id": "5f48db7d-d931-4eec-be9d-75cf21e5261e",
   "metadata": {},
   "outputs": [],
   "source": [
    "train_X, val_X, train_y, val_y = train_test_split(X, y, random_state = 1)"
   ]
  },
  {
   "cell_type": "code",
   "execution_count": null,
   "id": "8ca0c9f7-7c60-4515-81bc-51625bca0bb5",
   "metadata": {},
   "outputs": [],
   "source": [
    "# Fit iowa_model with the training data.\n",
    "iowa_model = DecisionTreeRegressor(random_state=1)\n",
    "iowa_model.fit(train_X, train_y)"
   ]
  },
  {
   "cell_type": "code",
   "execution_count": null,
   "id": "3648b432-0dc7-4345-b6c2-2e643a7bc256",
   "metadata": {},
   "outputs": [],
   "source": [
    "# Predict with all validation observations\n",
    "val_predictions = iowa_model.predict(val_X)\n",
    "# Print the top few validation predictions\n",
    "print(\"Top 5 Validation Predictions:\", val_predictions[:5])\n",
    "# Print the top few actual prices from validation data\n",
    "print(\"Top 5 Actual Prices:\")\n",
    "print(val_y[:5])"
   ]
  },
  {
   "cell_type": "code",
   "execution_count": null,
   "id": "6a3e0e56-8e2b-4e97-8cad-7d993125e7fd",
   "metadata": {},
   "outputs": [],
   "source": [
    "val_mae = mean_absolute_error(val_y, val_predictions)\n",
    "print(val_mae)"
   ]
  },
  {
   "cell_type": "code",
   "execution_count": null,
   "id": "ff706533-3bc3-49e8-9a40-8814fb5a039d",
   "metadata": {},
   "outputs": [],
   "source": []
  }
 ],
 "metadata": {
  "kernelspec": {
   "display_name": "my-env",
   "language": "python",
   "name": "my-env"
  },
  "language_info": {
   "codemirror_mode": {
    "name": "ipython",
    "version": 3
   },
   "file_extension": ".py",
   "mimetype": "text/x-python",
   "name": "python",
   "nbconvert_exporter": "python",
   "pygments_lexer": "ipython3",
   "version": "3.13.0"
  }
 },
 "nbformat": 4,
 "nbformat_minor": 5
}
